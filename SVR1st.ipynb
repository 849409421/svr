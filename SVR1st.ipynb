{
 "cells": [
  {
   "cell_type": "code",
   "execution_count": null,
   "metadata": {},
   "outputs": [],
   "source": [
    "from pandas import read_csv\n",
    "import numpy \n",
    "from matplotlib import pyplot\n",
    "import seaborn as sns\n",
    "from sklearn.metrics import mean_squared_error\n",
    "from sklearn import svm\n",
    "from sklearn.svm import SVR\n",
    "%matplotlib inline\n",
    "from matplotlib.pylab import rcParams\n",
    "rcParams['figure.figsize'] = 15,6\n",
    "import statsmodels.api as sm\n",
    "from sklearn import metrics\n",
    "import random\n",
    "import csv"
   ]
  },
  {
   "cell_type": "code",
   "execution_count": null,
   "metadata": {},
   "outputs": [],
   "source": [
    "series = read_csv('output2nd.csv')\n",
    "X = series.values\n",
    "print(series.columns)\n",
    "print(series)\n",
    "print(series.describe())"
   ]
  },
  {
   "cell_type": "code",
   "execution_count": null,
   "metadata": {},
   "outputs": [],
   "source": [
    "series.shape"
   ]
  },
  {
   "cell_type": "code",
   "execution_count": null,
   "metadata": {},
   "outputs": [],
   "source": [
    "# visualize the relationship between the features and the response using scatterplots\n",
    "sns.pairplot(series,x_vars=['Fuel Oil Consumption(Predicted)','Cooling Degree Days U.S. Average','Heating Degree Days U.S. Average '], y_vars='Fuel Oil Consumption(Actual)', size=7, aspect=0.7)"
   ]
  },
  {
   "cell_type": "code",
   "execution_count": null,
   "metadata": {},
   "outputs": [],
   "source": [
    "n_train = 168\n",
    "features=series['Fuel Oil Consumption(Actual)'].values\n",
    "target=series['Fuel Oil Consumption(Predicted)'].values\n",
    "X=target\n",
    "\n",
    "X_train, X_test = features[:n_train], features[n_train:]\n",
    "print(X_train)\n",
    "print(X_test)\n",
    "    \n",
    "y_train, y_test = target[:n_train], target[n_train:]\n",
    "print( y_train)\n",
    "print(y_test)\n",
    "svr = svm.SVR(kernel=\"rbf\", gamma=0.1)\n",
    "svr.fit(X_train.reshape(-1,1),y_train)\n",
    "y_pred = svr.predict(X_test.reshape(-1,1))\n",
    "print(y_pred)\n",
    "y_pred_train = svr.predict(X_train.reshape(-1,1))\n",
    "pyplot.figure(figsize=(10, 3))\n",
    "lw=2\n",
    "pyplot.scatter(X_test.reshape(-1,1),y_test.reshape(-1,1).ravel(),color='darkorange',label='Test data')\n",
    "pyplot.plot(X_test.reshape(-1,1),y_pred,color='navy',lw=lw,label='RBF model')\n",
    "pyplot.xlabel('Fuel Oil Consumption(Predicted)')\n",
    "pyplot.ylabel('Fuel Oil Consumption(Actual)')\n",
    "pyplot.title('Support Vector Regression')\n",
    "pyplot.legend()\n",
    "pyplot.show()\n",
    "pyplot.plot(range(n_train), y_train, label=\"train\")\n",
    "pyplot.plot(range(n_train, len(y_test) + n_train), y_test, '-', label=\"test\")\n",
    "pyplot.plot(range(n_train), y_pred_train, '--', label=\"prediction train\")\n",
    "pyplot.plot(range(n_train, len(y_test) + n_train), y_pred, '--',label=\"prediction test\")\n",
    "pyplot.legend(loc=(1.01, 0))\n",
    "pyplot.xlabel(\"Month\")\n",
    "pyplot.ylabel(\"Fuel Oil Consumption(Actual)\")\n",
    "pyplot.title(\"Support Vector Regression\")\n",
    "error = mean_squared_error(y_test,y_pred)\n",
    "print('Mean Squared Error(MSE): %.6f' % error)\n"
   ]
  }
 ],
 "metadata": {
  "kernelspec": {
   "display_name": "Python 3",
   "language": "python",
   "name": "python3"
  },
  "language_info": {
   "codemirror_mode": {
    "name": "ipython",
    "version": 3
   },
   "file_extension": ".py",
   "mimetype": "text/x-python",
   "name": "python",
   "nbconvert_exporter": "python",
   "pygments_lexer": "ipython3",
   "version": "3.6.3"
  }
 },
 "nbformat": 4,
 "nbformat_minor": 2
}
